{
 "cells": [
  {
   "cell_type": "code",
   "execution_count": 33,
   "metadata": {},
   "outputs": [
    {
     "name": "stdout",
     "output_type": "stream",
     "text": [
      "0.029632767723285252\n",
      "0.9703672322767147\n",
      "0.9769568982251158\n",
      "0.023043101774884223\n"
     ]
    }
   ],
   "source": [
    "from scipy import stats\n",
    "from scipy.stats import t as t_dist\n",
    "from scipy.stats import chi2\n",
    "import math\n",
    "from abtesting_test import *\n",
    "\n",
    "# You can comment out these lines! They are just here to help follow along to the tutorial.\n",
    "print(t_dist.cdf(-2, 20)) # should print .02963\n",
    "print(t_dist.cdf(2, 20)) # positive t-score (bad), should print .97036 (= 1 - .2963)\n",
    "\n",
    "print(chi2.cdf(23.6, 12)) # prints 0.976\n",
    "print(1 - chi2.cdf(23.6, 12)) # prints 1 - 0.976 = 0.023 (yay!)\n"
   ]
  },
  {
   "cell_type": "code",
   "execution_count": 59,
   "metadata": {},
   "outputs": [],
   "source": [
    "\n",
    "# TODO: Fill in the following functions! Be sure to delete \"pass\" when you want to use/run a function!\n",
    "# NOTE: You should not be using any outside libraries or functions other than the simple operators (+, **, etc)\n",
    "# and the specifically mentioned functions (i.e. round, cdf functions...)\n",
    "\n",
    "def slice_2D(list_2D, start_row, end_row, start_col, end_col):\n",
    "    '''\n",
    "    Splices a the 2D list via start_row:end_row and start_col:end_col\n",
    "    :param list: list of list of numbers\n",
    "    :param nums: start_row, end_row, start_col, end_col\n",
    "    :return: the spliced 2D list (ending indices are exclsive)\n",
    "    '''\n",
    "    to_append = []\n",
    "    for l in range(start_row, end_row):\n",
    "        to_append.append(list_2D[l][start_col:end_col])\n",
    "\n",
    "    return to_append\n",
    "\n",
    "def get_avg(nums):\n",
    "    '''\n",
    "    Helper function for calculating the average of a sample.\n",
    "    :param nums: list of numbers\n",
    "    :return: average of list\n",
    "    '''\n",
    "    #TODO: fill me in!\n",
    "    mysum = 0\n",
    "    for num in nums:\n",
    "        mysum+=num\n",
    "    return mysum/len(nums)\n",
    "\n",
    "def get_stdev(nums):\n",
    "    '''\n",
    "    Helper function for calculating the standard deviation of a sample.\n",
    "    :param nums: list of numbers\n",
    "    :return: standard deviation of list\n",
    "    '''\n",
    "    #TODO: fill me in!\n",
    "    mymean = get_avg(nums)\n",
    "    mysum = 0\n",
    "    for num in nums:\n",
    "        mysum+= (num-mymean)**2\n",
    "    return math.sqrt(mysum/(len(nums)-1))\n",
    "\n",
    "def get_standard_error(a, b):\n",
    "    '''\n",
    "    Helper function for calculating the standard error, given two samples.\n",
    "    :param a: list of numbers\n",
    "    :param b: list of numbers\n",
    "    :return: standard error of a and b (see studio 6 guide for this equation!)\n",
    "    '''\n",
    "    #TODO: fill me in!\n",
    "    return math.sqrt(get_stdev(a)**2/len(a)+ get_stdev(b)**2/len(b)) \n",
    "\n",
    "def get_2_sample_df(a, b):\n",
    "    '''\n",
    "    Calculates the combined degrees of freedom between two samples.\n",
    "    :param a: list of numbers\n",
    "    :param b: list of numbers\n",
    "    :return: integer representing the degrees of freedom between a and b (see studio 6 guide for this equation!)\n",
    "    HINT: you can use Math.round() to help you round!\n",
    "    '''\n",
    "    #TODO: fill me in!\n",
    "    se = get_standard_error(a, b)\n",
    "    stda = get_stdev(a)\n",
    "    stdb = get_stdev(b)\n",
    "    na = len(a)\n",
    "    nb = len(b)\n",
    "    x = se**4/((((stda**2)/na)**2/(na-1))+(((stdb**2)/nb)**2/(nb-1)))\n",
    "    return round(x)\n",
    "\n",
    "def get_t_score(a, b):\n",
    "    '''\n",
    "    Calculates the t-score, given two samples.\n",
    "    :param a: list of numbers\n",
    "    :param b: list of numbers\n",
    "    :return: number representing the t-score given lists a and b (see studio 6 guide for this equation!)\n",
    "    '''\n",
    "    #TODO: fill me in!\n",
    "    return (get_avg(a)-get_avg(b))/get_standard_error(a,b)\n",
    "\n",
    "def perform_2_sample_t_test(a, b):\n",
    "    '''\n",
    "    ** DO NOT CHANGE THE NAME OF THIS FUNCTION!! ** (this will mess with our autograder)\n",
    "    Calculates a p-value by performing a 2-sample t-test, given two lists of numbers.\n",
    "    :param a: list of numbers\n",
    "    :param b: list of numbers\n",
    "    :return: calculated p-value\n",
    "    HINT: the t_dist.cdf() function might come in handy!\n",
    "    '''\n",
    "    #TODO: fill me in!\n",
    "    t = get_t_score(a,b)\n",
    "    if(t>0):\n",
    "        t = t*-1\n",
    "    return t_dist.cdf(t, get_2_sample_df(a,b))\n",
    "\n",
    "\n",
    "# [OPTIONAL] Some helper functions that might be helpful in get_expected_grid().\n",
    "def row_sum(observed_grid, ele_row):\n",
    "    mysum = 0\n",
    "    for col in range(len(observed_grid[0])):\n",
    "        #print(ele_row, col)\n",
    "        mysum+=observed_grid[ele_row][col]\n",
    "    return mysum\n",
    "        \n",
    "def col_sum(observed_grid, ele_col):\n",
    "\n",
    "    mysum = 0\n",
    "    for row in range(len(observed_grid)):\n",
    "        mysum+=observed_grid[row][ele_col]\n",
    "    return mysum\n",
    "\n",
    "def total_sum(observed_grid):\n",
    "    mysum = 0\n",
    "    for row in range(len(observed_grid)):\n",
    "        for col in range(len(observed_grid[0])):\n",
    "            mysum+=observed_grid[row][col]\n",
    "    return mysum\n",
    "\n",
    "def calculate_expected(row_sum, col_sum, tot_sum):\n",
    "    return (row_sum*col_sum)/tot_sum\n",
    "\n",
    "def get_expected_grid(observed_grid):\n",
    "    '''\n",
    "    Calculates the expected counts, given the observed counts.\n",
    "    ** DO NOT modify the parameter, observed_grid. **\n",
    "    :param observed_grid: 2D list of observed counts\n",
    "    :return: 2D list of expected counts\n",
    "    HINT: To clean up this calculation, consider filling in the optional helper functions below!\n",
    "    '''\n",
    "    #TODO: fill me in!\n",
    "    bigls = []\n",
    "    tot_sum = total_sum(observed_grid)\n",
    "    for row in range(len(observed_grid)):\n",
    "        rowls = []\n",
    "        for col in range(len(observed_grid[0])):\n",
    "            rowls.append(calculate_expected(row_sum(observed_grid,row),col_sum(observed_grid,col),tot_sum))\n",
    "        bigls.append(rowls)\n",
    "    return bigls"
   ]
  },
  {
   "cell_type": "code",
   "execution_count": 60,
   "metadata": {},
   "outputs": [],
   "source": [
    "\n",
    "def df_chi2(observed_grid):\n",
    "    '''\n",
    "    Calculates the degrees of freedom of the expected counts.\n",
    "    :param observed_grid: 2D list of observed counts\n",
    "    :return: degrees of freedom of expected counts (see studio 6 guide for this equation!)\n",
    "    '''\n",
    "    #TODO: fill me in!\n",
    "    return ((len(observed_grid)-1) * (len(observed_grid[0])-1))\n",
    "\n",
    "def chi2_value(observed_grid):\n",
    "    '''\n",
    "    Calculates the chi^2 value of the expected counts.\n",
    "    :param observed_grid: 2D list of observed counts\n",
    "    :return: associated chi^2 value of expected counts (see studio 6 guide for this equation!)\n",
    "    '''\n",
    "    expected_grid = get_expected_grid(observed_grid)\n",
    "    mysum = 0\n",
    "    for row in range(len(observed_grid)):\n",
    "        for col in range(len(observed_grid[0])):\n",
    "            mysum+= ((observed_grid[row][col] - expected_grid[row][col])**2)/expected_grid[row][col]\n",
    "    return mysum\n",
    "\n",
    "def perform_chi2_homogeneity_test(observed_grid):\n",
    "    '''\n",
    "    ** DO NOT CHANGE THE NAME OF THIS FUNCTION!! ** (this will mess with our autograder)\n",
    "    Calculates the p-value by performing a chi^2 test, given a list of observed counts\n",
    "    :param observed_grid: 2D list of observed counts\n",
    "    :return: calculated p-value\n",
    "    HINT: the chi2.cdf() function might come in handy!\n",
    "    '''\n",
    "    #TODO: fill me in!\n",
    "    return 1-chi2.cdf(chi2_value(observed_grid),df_chi2(observed_grid))\n",
    "\n",
    "# These commented out lines are for testing your main functions. \n",
    "# Please uncomment them when finished with your implementation and confirm you get the same values :)\n",
    "def data_to_num_list(s):\n",
    "  '''\n",
    "    Takes a copy and pasted row/col from a spreadsheet and produces a usable list of nums. \n",
    "    This will be useful when you need to run your tests on your cleaned log data!\n",
    "    :param str: string holding data\n",
    "    :return: the spliced list of numbers\n",
    "    '''\n",
    "  return list(map(float, s.split()))\n"
   ]
  },
  {
   "cell_type": "code",
   "execution_count": 61,
   "metadata": {},
   "outputs": [
    {
     "name": "stdout",
     "output_type": "stream",
     "text": [
      "129.50006781955568\n",
      "0.0\n"
     ]
    }
   ],
   "source": [
    "# t_test 1:\n",
    "a_t1_list = data_to_num_list(a1) \n",
    "b_t1_list = data_to_num_list(b1)\n",
    "print(get_t_score(a_t1_list, b_t1_list)) # this should be -129.500\n",
    "print(perform_2_sample_t_test(a_t1_list, b_t1_list)) # this should be 0.0000\n",
    "# why do you think this is? Take a peek at a1 and b1 in abtesting_test.py :)"
   ]
  },
  {
   "cell_type": "code",
   "execution_count": 62,
   "metadata": {},
   "outputs": [
    {
     "name": "stdout",
     "output_type": "stream",
     "text": [
      "-1.4883415839372593\n",
      "0.08237935428773466\n"
     ]
    }
   ],
   "source": [
    "# t_test 2:\n",
    "a_t2_list = data_to_num_list(a2) \n",
    "b_t2_list = data_to_num_list(b2)\n",
    "print(get_t_score(a_t2_list, b_t2_list)) # this should be -1.48834\n",
    "print(perform_2_sample_t_test(a_t2_list, b_t2_list)) # this should be .082379\n"
   ]
  },
  {
   "cell_type": "code",
   "execution_count": 63,
   "metadata": {},
   "outputs": [
    {
     "name": "stdout",
     "output_type": "stream",
     "text": [
      "-2.8896915231301823\n",
      "0.005091269015030475\n"
     ]
    }
   ],
   "source": [
    "\n",
    "# t_test 3:\n",
    "a_t3_list = data_to_num_list(a3) \n",
    "b_t3_list = data_to_num_list(b3)\n",
    "print(get_t_score(a_t3_list, b_t3_list)) # this should be -2.88969\n",
    "print(perform_2_sample_t_test(a_t3_list, b_t3_list)) # this should be .005091\n",
    "\n"
   ]
  },
  {
   "cell_type": "code",
   "execution_count": 64,
   "metadata": {},
   "outputs": [
    {
     "name": "stdout",
     "output_type": "stream",
     "text": [
      "4.103526475356585\n",
      "0.04279386669738383\n"
     ]
    }
   ],
   "source": [
    "\n",
    "# chi2_test 1:\n",
    "a_c1_list = data_to_num_list(a_count_1) \n",
    "b_c1_list = data_to_num_list(b_count_1)\n",
    "c1_observed_grid = [a_c1_list, b_c1_list]\n",
    "print(chi2_value(c1_observed_grid)) # this should be 4.103536\n",
    "print(perform_chi2_homogeneity_test(c1_observed_grid)) # this should be .0427939\n"
   ]
  },
  {
   "cell_type": "code",
   "execution_count": 65,
   "metadata": {},
   "outputs": [
    {
     "name": "stdout",
     "output_type": "stream",
     "text": [
      "33.8644445445335\n",
      "2.1161221397392183e-07\n"
     ]
    }
   ],
   "source": [
    "\n",
    "# chi2_test 2:\n",
    "a_c2_list = data_to_num_list(a_count_2) \n",
    "b_c2_list = data_to_num_list(b_count_2)\n",
    "c2_observed_grid = [a_c2_list, b_c2_list]\n",
    "print(chi2_value(c2_observed_grid)) # this should be 33.86444\n",
    "print(perform_chi2_homogeneity_test(c2_observed_grid)) # this should be 0.0000\n",
    "# Again, why do you think this is? Take a peek at a_count_2 and b_count_2 in abtesting_test.py :)\n"
   ]
  },
  {
   "cell_type": "code",
   "execution_count": 66,
   "metadata": {},
   "outputs": [
    {
     "name": "stdout",
     "output_type": "stream",
     "text": [
      "0.3119402081820378\n",
      "0.576492029430312\n"
     ]
    }
   ],
   "source": [
    "\n",
    "# chi2_test 3:\n",
    "a_c3_list = data_to_num_list(a_count_3) \n",
    "b_c3_list = data_to_num_list(b_count_3)\n",
    "c3_observed_grid = [a_c3_list, b_c3_list]\n",
    "print(chi2_value(c3_observed_grid)) # this should be .3119402\n",
    "print(perform_chi2_homogeneity_test(c3_observed_grid)) # this should be .57649202\n"
   ]
  },
  {
   "cell_type": "code",
   "execution_count": null,
   "metadata": {},
   "outputs": [],
   "source": []
  }
 ],
 "metadata": {
  "kernelspec": {
   "display_name": "Python 3",
   "language": "python",
   "name": "python3"
  },
  "language_info": {
   "codemirror_mode": {
    "name": "ipython",
    "version": 3
   },
   "file_extension": ".py",
   "mimetype": "text/x-python",
   "name": "python",
   "nbconvert_exporter": "python",
   "pygments_lexer": "ipython3",
   "version": "3.8.3"
  }
 },
 "nbformat": 4,
 "nbformat_minor": 4
}
